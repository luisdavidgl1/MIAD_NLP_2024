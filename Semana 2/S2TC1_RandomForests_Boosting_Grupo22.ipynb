{
 "cells": [
  {
   "cell_type": "markdown",
   "metadata": {},
   "source": [
    "![image info](https://raw.githubusercontent.com/albahnsen/MIAD_ML_and_NLP/main/images/banner_1.png)"
   ]
  },
  {
   "cell_type": "markdown",
   "metadata": {},
   "source": [
    "### <center>  Grupo 22 </center>\n",
    "\n",
    "<center>David Alejandro Rojas Castro - da.rojasc123@uniandes.edu.co </center>\n",
    "<center>Camila Malagón Suarez - c.malagons@uniandes.edu.co</center>\n",
    "<center>Luis David Gutierrez - ld.gutierrezl1@uniandes.edu.co</center>\n",
    "<center>David Zapata Vásquez - d.zapata11@uniandes.edu.co</center>"
   ]
  },
  {
   "cell_type": "markdown",
   "metadata": {},
   "source": [
    "# Taller: Construcción e implementación de modelos Bagging, Random Forest y XGBoost\n",
    "\n",
    "En este taller podrán poner en práctica sus conocimientos sobre la construcción e implementación de modelos de Bagging, Random Forest y XGBoost. El taller está constituido por 8 puntos, en los cuales deberan seguir las intrucciones de cada numeral para su desarrollo."
   ]
  },
  {
   "cell_type": "markdown",
   "metadata": {},
   "source": [
    "## Datos predicción precio de automóviles\n",
    "\n",
    "En este taller se usará el conjunto de datos de Car Listings de Kaggle donde cada observación representa el precio de un automóvil teniendo en cuenta distintas variables como año, marca, modelo, entre otras. El objetivo es predecir el precio del automóvil. Para más detalles puede visitar el siguiente enlace: [datos](https://www.kaggle.com/jpayne/852k-used-car-listings)."
   ]
  },
  {
   "cell_type": "code",
   "execution_count": 1,
   "metadata": {},
   "outputs": [],
   "source": [
    "import warnings\n",
    "warnings.filterwarnings('ignore')"
   ]
  },
  {
   "cell_type": "code",
   "execution_count": 2,
   "metadata": {},
   "outputs": [
    {
     "data": {
      "text/html": [
       "<div>\n",
       "<style scoped>\n",
       "    .dataframe tbody tr th:only-of-type {\n",
       "        vertical-align: middle;\n",
       "    }\n",
       "\n",
       "    .dataframe tbody tr th {\n",
       "        vertical-align: top;\n",
       "    }\n",
       "\n",
       "    .dataframe thead th {\n",
       "        text-align: right;\n",
       "    }\n",
       "</style>\n",
       "<table border=\"1\" class=\"dataframe\">\n",
       "  <thead>\n",
       "    <tr style=\"text-align: right;\">\n",
       "      <th></th>\n",
       "      <th>Price</th>\n",
       "      <th>Year</th>\n",
       "      <th>Mileage</th>\n",
       "      <th>M_Camry</th>\n",
       "      <th>M_Camry4dr</th>\n",
       "      <th>M_CamryBase</th>\n",
       "      <th>M_CamryL</th>\n",
       "      <th>M_CamryLE</th>\n",
       "      <th>M_CamrySE</th>\n",
       "      <th>M_CamryXLE</th>\n",
       "    </tr>\n",
       "  </thead>\n",
       "  <tbody>\n",
       "    <tr>\n",
       "      <th>7</th>\n",
       "      <td>21995</td>\n",
       "      <td>2014</td>\n",
       "      <td>6480</td>\n",
       "      <td>False</td>\n",
       "      <td>False</td>\n",
       "      <td>False</td>\n",
       "      <td>True</td>\n",
       "      <td>False</td>\n",
       "      <td>False</td>\n",
       "      <td>False</td>\n",
       "    </tr>\n",
       "    <tr>\n",
       "      <th>11</th>\n",
       "      <td>13995</td>\n",
       "      <td>2014</td>\n",
       "      <td>39972</td>\n",
       "      <td>False</td>\n",
       "      <td>False</td>\n",
       "      <td>False</td>\n",
       "      <td>False</td>\n",
       "      <td>True</td>\n",
       "      <td>False</td>\n",
       "      <td>False</td>\n",
       "    </tr>\n",
       "    <tr>\n",
       "      <th>167</th>\n",
       "      <td>17941</td>\n",
       "      <td>2016</td>\n",
       "      <td>18989</td>\n",
       "      <td>False</td>\n",
       "      <td>False</td>\n",
       "      <td>False</td>\n",
       "      <td>False</td>\n",
       "      <td>False</td>\n",
       "      <td>True</td>\n",
       "      <td>False</td>\n",
       "    </tr>\n",
       "    <tr>\n",
       "      <th>225</th>\n",
       "      <td>12493</td>\n",
       "      <td>2014</td>\n",
       "      <td>51330</td>\n",
       "      <td>False</td>\n",
       "      <td>False</td>\n",
       "      <td>False</td>\n",
       "      <td>True</td>\n",
       "      <td>False</td>\n",
       "      <td>False</td>\n",
       "      <td>False</td>\n",
       "    </tr>\n",
       "    <tr>\n",
       "      <th>270</th>\n",
       "      <td>7994</td>\n",
       "      <td>2007</td>\n",
       "      <td>116065</td>\n",
       "      <td>False</td>\n",
       "      <td>True</td>\n",
       "      <td>False</td>\n",
       "      <td>False</td>\n",
       "      <td>False</td>\n",
       "      <td>False</td>\n",
       "      <td>False</td>\n",
       "    </tr>\n",
       "  </tbody>\n",
       "</table>\n",
       "</div>"
      ],
      "text/plain": [
       "     Price  Year  Mileage  M_Camry  M_Camry4dr  M_CamryBase  M_CamryL  \\\n",
       "7    21995  2014     6480    False       False        False      True   \n",
       "11   13995  2014    39972    False       False        False     False   \n",
       "167  17941  2016    18989    False       False        False     False   \n",
       "225  12493  2014    51330    False       False        False      True   \n",
       "270   7994  2007   116065    False        True        False     False   \n",
       "\n",
       "     M_CamryLE  M_CamrySE  M_CamryXLE  \n",
       "7        False      False       False  \n",
       "11        True      False       False  \n",
       "167      False       True       False  \n",
       "225      False      False       False  \n",
       "270      False      False       False  "
      ]
     },
     "execution_count": 2,
     "metadata": {},
     "output_type": "execute_result"
    }
   ],
   "source": [
    "# Importación de librerías\n",
    "%matplotlib inline\n",
    "import pandas as pd\n",
    "\n",
    "# Lectura de la información de archivo .csv\n",
    "data = pd.read_csv('https://raw.githubusercontent.com/albahnsen/MIAD_ML_and_NLP/main/datasets/dataTrain_carListings.zip')\n",
    "\n",
    "# Preprocesamiento de datos para el taller\n",
    "data = data.loc[data['Model'].str.contains('Camry')].drop(['Make', 'State'], axis=1)\n",
    "data = data.join(pd.get_dummies(data['Model'], prefix='M'))\n",
    "data = data.drop(['Model'], axis=1)\n",
    "\n",
    "# Visualización dataset\n",
    "data.head()"
   ]
  },
  {
   "cell_type": "code",
   "execution_count": 3,
   "metadata": {},
   "outputs": [],
   "source": [
    "# Separación de variables predictoras (X) y variable de interés (y)\n",
    "y = data['Price']\n",
    "X = data.drop(['Price'], axis=1)"
   ]
  },
  {
   "cell_type": "code",
   "execution_count": 4,
   "metadata": {},
   "outputs": [],
   "source": [
    "# Separación de datos en set de entrenamiento y test\n",
    "from sklearn.model_selection import train_test_split\n",
    "X_train, X_test, y_train, y_test = train_test_split(X, y, test_size=0.33, random_state=42)"
   ]
  },
  {
   "cell_type": "markdown",
   "metadata": {},
   "source": [
    "### Punto 1 - Árbol de decisión manual\n",
    "\n",
    "En la celda 1 creen un árbol de decisión **manualmente**  que considere los set de entrenamiento y test definidos anteriormente y presenten el RMSE y MAE del modelo en el set de test."
   ]
  },
  {
   "cell_type": "code",
   "execution_count": 5,
   "metadata": {},
   "outputs": [
    {
     "name": "stdout",
     "output_type": "stream",
     "text": [
      "RMSE en el conjunto de test: 1935.1155006739648\n",
      "MAE en el conjunto de test: 1458.0246928139518\n"
     ]
    }
   ],
   "source": [
    "import numpy as np\n",
    "\n",
    "# Función para calcular la media de los precios\n",
    "def mean(values):\n",
    "    return np.mean(values)\n",
    "\n",
    "# Función para calcular la varianza total\n",
    "def variance(values, split_value):\n",
    "    return np.sum((values - split_value) ** 2)\n",
    "\n",
    "# Función para evaluar posibles splits\n",
    "def test_split(index, value, dataset):\n",
    "    left, right = list(), list()\n",
    "    for row in dataset:\n",
    "        if row[index] < value:\n",
    "            left.append(row)\n",
    "        else:\n",
    "            right.append(row)\n",
    "    return left, right\n",
    "\n",
    "# Función para calcular el mejor split\n",
    "def get_split(dataset):\n",
    "    b_index, b_value, b_score, b_groups = None, None, float('inf'), None\n",
    "    for index in range(len(dataset[0])-1):\n",
    "        unique_values = set([row[index] for row in dataset])\n",
    "        for value in unique_values:\n",
    "            groups = test_split(index, value, dataset)\n",
    "            y_left = [row[-1] for row in groups[0]]\n",
    "            y_right = [row[-1] for row in groups[1]]\n",
    "            if len(y_left) == 0 or len(y_right) == 0:\n",
    "                continue  # Evita splits que no dividan los datos adecuadamente\n",
    "            p_left, p_right = mean(y_left), mean(y_right)\n",
    "            current_score = variance(y_left, p_left) + variance(y_right, p_right)\n",
    "            if current_score < b_score:\n",
    "                b_index, b_value, b_score, b_groups = index, value, current_score, groups\n",
    "    if b_groups is None and b_index is not None:  # Añadir un split por defecto si no se encuentra ninguno\n",
    "        median = np.median([row[b_index] for row in dataset])\n",
    "        b_groups = test_split(b_index, median, dataset)\n",
    "    elif b_groups is None:  # Si todos los intentos fallan\n",
    "        b_index = 0  # Uso el primer índice disponible como último recurso\n",
    "        median = np.median([row[b_index] for row in dataset])\n",
    "        b_groups = test_split(b_index, median, dataset)\n",
    "    return {'index': b_index, 'value': b_value, 'groups': b_groups}\n",
    "\n",
    "# Función para crear una hoja terminal\n",
    "def to_terminal(group):\n",
    "    outcomes = [row[-1] for row in group]\n",
    "    return mean(outcomes)\n",
    "\n",
    "# Función para crear divisiones de nodos hijos o hacer terminales\n",
    "def split(node, max_depth, depth):\n",
    "    if 'groups' not in node or node['groups'] is None:\n",
    "        node['left'] = node['right'] = to_terminal([row[-1] for row in dataset])\n",
    "        return\n",
    "    left, right = node['groups']\n",
    "    del(node['groups'])\n",
    "    if not left or not right:\n",
    "        node['left'] = node['right'] = to_terminal(left + right)\n",
    "        return\n",
    "    if depth >= max_depth:\n",
    "        node['left'], node['right'] = to_terminal(left), to_terminal(right)\n",
    "        return\n",
    "    node['left'] = get_split(left)\n",
    "    split(node['left'], max_depth, depth+1)\n",
    "    node['right'] = get_split(right)\n",
    "    split(node['right'], max_depth, depth+1)\n",
    "\n",
    "# Función para construir un árbol\n",
    "def build_tree(train, max_depth):\n",
    "    root = get_split(train)\n",
    "    split(root, max_depth, 1)\n",
    "    return root\n",
    "\n",
    "# Función para hacer una predicción con el árbol\n",
    "def predict(node, row):\n",
    "    if row[node['index']] < node['value']:\n",
    "        if isinstance(node['left'], dict):\n",
    "            return predict(node['left'], row)\n",
    "        else:\n",
    "            return node['left']\n",
    "    else:\n",
    "        if isinstance(node['right'], dict):\n",
    "            return predict(node['right'], row)\n",
    "        else:\n",
    "            return node['right']\n",
    "\n",
    "# Convertir datos a una lista de listas\n",
    "dataset = np.column_stack((X_train, y_train)).tolist()\n",
    "\n",
    "# Construir el árbol\n",
    "tree = build_tree(dataset, max_depth=3)\n",
    "\n",
    "# Función para calcular RMSE\n",
    "def rmse_metric(actual, predicted):\n",
    "    sum_error = 0.0\n",
    "    for i in range(len(actual)):\n",
    "        prediction_error = predicted[i] - actual[i]\n",
    "        sum_error += (prediction_error ** 2)\n",
    "    mean_error = sum_error / float(len(actual))\n",
    "    return np.sqrt(mean_error)\n",
    "\n",
    "# Hacer predicciones en el conjunto de test\n",
    "predictions = [predict(tree, row.tolist()) for row in X_test.values]\n",
    "actual = y_test.tolist()\n",
    "\n",
    "# Calcular RMSE y MAE\n",
    "rmse = rmse_metric(actual, predictions)\n",
    "mae = np.mean(np.abs(np.array(actual) - np.array(predictions)))\n",
    "\n",
    "print(\"RMSE en el conjunto de test:\", rmse)\n",
    "print(\"MAE en el conjunto de test:\", mae)"
   ]
  },
  {
   "cell_type": "markdown",
   "metadata": {},
   "source": [
    "**Análisis de resultados:**\n",
    "RMSE (Root Mean Square Error): 1935.12\n",
    "MAE (Mean Absolute Error): 1458.02\n",
    "\n",
    "**Conclusión del Análisis:**\n",
    "El modelo de árbol de decisión manual alcanzó un **RMSE de 1935.12** y un **MAE de 1458.02** en el conjunto de test. Estos valores proporcionan una medida de cuánto se desvían las predicciones del modelo de los valores reales. En este contexto, un RMSE de 1935.12 indica que, en promedio, las predicciones del modelo pueden estar dentro de un rango de aproximadamente 1935 unidades monetarias del precio real del automóvil. Similarmente, el MAE de 1458.02 sugiere que, en promedio, los errores absolutos de las predicciones están alrededor de 1458 unidades.\n",
    "\n",
    "**Interpretación:**\n",
    "* **Magnitud de los errores:** Los valores de RMSE y MAE son relativamente altos, lo que podría indicar que el modelo, aunque funcional, no captura completamente la complejidad o las relaciones subyacentes en los datos. Esto es común en modelos de árboles de decisión simples sin refinamiento o ajuste de parámetros, especialmente cuando se construyen manualmente sin optimizaciones avanzadas.\n",
    "* **Impacto de los errores grandes:** El RMSE mayor que el MAE sugiere que hay varios errores grandes que afectan más significativamente al RMSE debido a su naturaleza de penalización cuadrática. Esto podría ser indicativo de sobreajuste en ciertas partes del árbol o de la incapacidad del modelo para manejar adecuadamente las variaciones extremas en los datos.\n",
    "\n",
    "**Implicaciones:**\n",
    "Este modelo podría servir como un punto de partida básico, pero claramente hay espacio para mejoras. El desempeño actual puede no ser suficiente para aplicaciones prácticas donde se requieren predicciones precisas de precios de automóviles, como en sistemas de recomendación para compradores de autos o en aplicaciones de inventario para vendedores de autos."
   ]
  },
  {
   "cell_type": "markdown",
   "metadata": {},
   "source": [
    "### Punto 2 - Bagging manual\n",
    "\n",
    "En la celda 2 creen un modelo bagging **manualmente** con 10 árboles de regresión y comenten sobre el desempeño del modelo."
   ]
  },
  {
   "cell_type": "code",
   "execution_count": 6,
   "metadata": {},
   "outputs": [
    {
     "name": "stdout",
     "output_type": "stream",
     "text": [
      "RMSE en el conjunto de test: 1817.0298508912313\n",
      "MAE en el conjunto de test: 1350.26781423832\n"
     ]
    }
   ],
   "source": [
    "import numpy as np\n",
    "\n",
    "def bootstrap_sample(data):\n",
    "    n_samples = len(data)\n",
    "    indices = np.random.choice(n_samples, size=n_samples, replace=True)\n",
    "    return data[indices]\n",
    "\n",
    "def bagging_predict(trees, row):\n",
    "    predictions = [predict(tree, row) for tree in trees]\n",
    "    return np.mean(predictions)  # Para regresión\n",
    "\n",
    "# Crear múltiples árboles de decisión\n",
    "n_trees = 10\n",
    "trees = []\n",
    "\n",
    "for _ in range(n_trees):\n",
    "    sample = bootstrap_sample(np.array(dataset))\n",
    "    tree = build_tree(sample.tolist(), max_depth=3)\n",
    "    trees.append(tree)\n",
    "\n",
    "# Evaluar el ensamble en el conjunto de test\n",
    "predictions = [bagging_predict(trees, row.tolist()) for row in X_test.values]\n",
    "actual = y_test.tolist()\n",
    "\n",
    "# Calcular RMSE y MAE\n",
    "rmse = rmse_metric(actual, predictions)\n",
    "mae = np.mean(np.abs(np.array(actual) - np.array(predictions)))\n",
    "\n",
    "print(\"RMSE en el conjunto de test:\", rmse)\n",
    "print(\"MAE en el conjunto de test:\", mae)"
   ]
  },
  {
   "cell_type": "markdown",
   "metadata": {},
   "source": [
    "**Análisis de resultados:**\n",
    "\n",
    "Bagging Manual:\n",
    "\n",
    "RMSE: 1816.74\n",
    "\n",
    "MAE: 1353.81\n",
    "\n",
    "**Observaciones:**\n",
    "* **Reducción de Error:** El modelo de bagging ha reducido tanto el RMSE como el MAE en comparación con un único árbol de decisión. El RMSE se ha reducido en aproximadamente 118.38 unidades y el MAE en aproximadamente 104.22 unidades.\n",
    "\n",
    "**Interpretación del RMSE y MAE:**\n",
    "* **RMSE (Root Mean Square Error):** Este mide la magnitud de los errores entre los valores predichos y los valores reales. Dado que el RMSE penaliza más los errores grandes (por el cuadrado de las diferencias), una reducción en el RMSE sugiere una mejora en la precisión del modelo, especialmente en la reducción de grandes errores de predicción.\n",
    "* **MAE (Mean Absolute Error):** Este mide el error promedio en las predicciones; es menos sensible a los valores atípicos que el RMSE. La reducción del MAE indica que, en promedio, las predicciones del modelo de bagging están más cerca de los valores reales.\n",
    "\n",
    "**Conclusiones:**\n",
    "* **Efectividad del Bagging:** La mejora en ambos, RMSE y MAE, para el modelo de bagging indica que este método puede ser más efectivo para este conjunto de datos específico. El bagging ha ayudado probablemente a reducir la varianza del modelo, haciéndolo más robusto contra el sobreajuste y mejorando la precisión general en los datos de prueba.\n",
    "* **Sobreajuste:** Dado que el bagging utiliza múltiples modelos (árboles en este caso) entrenados en diferentes subconjuntos del dataset, es menos probable que el modelo resultante se sobreajuste a los datos de entrenamiento en comparación con un solo árbol de decisión. Esto podría explicar la mejora en la precisión observada con el modelo de bagging.\n",
    "* **Recomendaciones:** Para este conjunto de datos y problema específico (predicción del precio de automóviles), el uso de bagging presenta una clara ventaja sobre el uso de un solo árbol de decisión. Podría ser beneficioso explorar aún más los métodos de ensamblaje, quizás aumentando el número de árboles en el bagging o utilizando otras técnicas de ensamblaje como Random Forest o Boosting para comparar rendimientos."
   ]
  },
  {
   "cell_type": "markdown",
   "metadata": {},
   "source": [
    "### Punto 3 - Bagging con librería\n",
    "\n",
    "En la celda 3, con la librería sklearn, entrenen un modelo bagging con 10 árboles de regresión y el parámetro `max_features` igual a `log(n_features)` y comenten sobre el desempeño del modelo."
   ]
  },
  {
   "cell_type": "code",
   "execution_count": 7,
   "metadata": {},
   "outputs": [
    {
     "name": "stdout",
     "output_type": "stream",
     "text": [
      "MSE:  3329530.115417581\n",
      "RMSE:  1824.7000069648657\n",
      "MAE:  1361.8777493561897\n"
     ]
    }
   ],
   "source": [
    "# Celda 3\n",
    "\n",
    "# Libreria\n",
    "from sklearn.tree import DecisionTreeRegressor\n",
    "from sklearn.ensemble import BaggingRegressor\n",
    "from sklearn.metrics import mean_squared_error\n",
    "import numpy as np\n",
    "\n",
    "# Inicialización del modelo de ensamblaje Bagging con DecisionTreeRegressor\n",
    "\n",
    "n_features = X_train.shape[1]\n",
    "\n",
    "bagging_model = BaggingRegressor(DecisionTreeRegressor(max_features = \"log2\"), bootstrap= True, oob_score  = True, random_state = 1) \n",
    "\n",
    "# Entrenar el modelo con el conjunto de entrenamiento\n",
    "bagging_model.fit(X_train, y_train)\n",
    "\n",
    "# Predicción\n",
    "y_pred = bagging_model.predict(X_test)\n",
    "\n",
    "# Calculo de métrica MSE y error\n",
    "MSE = mean_squared_error(y_test, y_pred)\n",
    "RMSE = np.sqrt(MSE)\n",
    "MAE = np.mean(np.abs(np.array(y_test) - np.array(y_pred)))\n",
    "\n",
    "print(\"MSE: \", MSE)\n",
    "print(\"RMSE: \", RMSE)\n",
    "print(\"MAE: \", MAE)"
   ]
  },
  {
   "cell_type": "markdown",
   "metadata": {},
   "source": [
    "#### Análisis de resultados: ###\n",
    "1. La raíz del error cuadrático medio (RMSE) es de 1.824, mientras el error absoluto medio (MAE) es de 1.361. Lo cual indica una mejoría en los valores obtenidos del error absoluto medio (MAE) pero un empeoramiento de la raíz del error cuadrático medio (RMSE). Debido a lo anterior, y a las pequeñas diferencias encontradas entre los valores de RMSE y MAE obtenidos con el Bagging Manual y el Bagging con Librería, se puede concluir, que ambos procedimientos son equivalentes dado que los resultados generados son muy cercanos. \n",
    "2. A pesar de que los errores son muy cercanos en los procesos de Bagging Manual y con Libreria, se deberán explorar modelos con el fin de encontrar aquel con la mayor capacidad predictiva.\n"
   ]
  },
  {
   "cell_type": "markdown",
   "metadata": {},
   "source": [
    "### Punto 4 - Random forest con librería\n",
    "\n",
    "En la celda 4, usando la librería sklearn entrenen un modelo de Randon Forest para regresión  y comenten sobre el desempeño del modelo."
   ]
  },
  {
   "cell_type": "code",
   "execution_count": 8,
   "metadata": {},
   "outputs": [
    {
     "name": "stdout",
     "output_type": "stream",
     "text": [
      "MSE:  3160290.4433022537\n",
      "RMSE:  1777.7205751473582\n",
      "MAE:  1327.1034752574178\n"
     ]
    }
   ],
   "source": [
    "# Celda 4\n",
    "\n",
    "from sklearn.ensemble import RandomForestRegressor\n",
    "from sklearn.metrics import mean_squared_error\n",
    "import numpy as np\n",
    "import math\n",
    "\n",
    "# Inicialización del modelo de ensamblaje de RandomForestRegressor\n",
    "randomforest1 = RandomForestRegressor(n_estimators = 200, max_features = 6, random_state = 1, n_jobs = -1)\n",
    "\n",
    "# Entrenamiento del modelo \n",
    "randomforest1.fit(X_train, y_train)\n",
    "\n",
    "# Predicción del modelo\n",
    "y_pred1 = randomforest1.predict(X_test)\n",
    "\n",
    "# Calculo de la métrica del error del modelo: MSE y RMSE \n",
    "MSE1 = mean_squared_error(y_test, y_pred1)\n",
    "RMSE1 = np.sqrt(MSE1)\n",
    "MAE = np.mean(np.abs(np.array(y_test) - np.array(y_pred1)))\n",
    "\n",
    "print(\"MSE: \", MSE1)\n",
    "print(\"RMSE: \", RMSE1)\n",
    "print(\"MAE: \", MAE)\n"
   ]
  },
  {
   "cell_type": "markdown",
   "metadata": {},
   "source": [
    "#### Análisis de resultados: ###\n",
    "1. La raíz del error cuadrático medio (RMSE) es de 1.778, mientras el error absoluto medio (MAE) es de  1.327. Los anteriores hallazgos desvelan que el modelo de Random Forest tiene una mejor capacidad predictiva que el modelo de Bagging (Manual o con Libreria) debido a que se realiza una reducción del 2,6% en el RMSE y 3,5% en el MAE. \n",
    "2. Si bien, esta es una primera aproximación del desempeño de los modelos de Random Forest para el problema de interés, su desempeño puede ser mejorado por medio de la calibración de parámetros del modelo de Random Forest que permita una mejor adecuación del modelo al problema. "
   ]
  },
  {
   "cell_type": "markdown",
   "metadata": {},
   "source": [
    "### Punto 5 - Calibración de parámetros Random forest\n",
    "\n",
    "En la celda 5, calibren los parámetros max_depth, max_features y n_estimators del modelo de Randon Forest para regresión, comenten sobre el desempeño del modelo y describan cómo cada parámetro afecta el desempeño del modelo."
   ]
  },
  {
   "cell_type": "code",
   "execution_count": 9,
   "metadata": {},
   "outputs": [],
   "source": [
    "# Celda 5\n",
    "# Calibración sobre n_estimators\n",
    "\n",
    "estimator_range = range(10, 510, 10)\n",
    "\n",
    "# Lista para almacenar el valor de RMSE para cada valor de número de árboles en el modelo\n",
    "rmse_scores = []\n",
    "\n",
    "for estimator in estimator_range:\n",
    "    rf = RandomForestRegressor(n_estimators = estimator, random_state = 3, n_jobs = -1)\n",
    "    rf.fit(X_train, y_train)\n",
    "\n",
    "    y_pred = rf.predict(X_test)\n",
    "    rmse_scores.append(np.sqrt(mean_squared_error(y_test, y_pred)))"
   ]
  },
  {
   "cell_type": "code",
   "execution_count": 10,
   "metadata": {},
   "outputs": [
    {
     "data": {
      "text/plain": [
       "Text(0, 0.5, 'rmse')"
      ]
     },
     "execution_count": 10,
     "metadata": {},
     "output_type": "execute_result"
    },
    {
     "data": {
      "image/png": "[encoded data removed]",
      "text/plain": [
       "<Figure size 640x480 with 1 Axes>"
      ]
     },
     "metadata": {},
     "output_type": "display_data"
    }
   ],
   "source": [
    "# Gráfica del desempeño del modelo vs la cantidad de n_estimators\n",
    "import matplotlib.pyplot as plt\n",
    "\n",
    "plt.plot(estimator_range, rmse_scores)\n",
    "plt.xlabel('n_estimators')\n",
    "plt.ylabel('rmse')"
   ]
  },
  {
   "cell_type": "code",
   "execution_count": 11,
   "metadata": {},
   "outputs": [
    {
     "data": {
      "text/plain": [
       "(140, 1753.8161988619245)"
      ]
     },
     "execution_count": 11,
     "metadata": {},
     "output_type": "execute_result"
    }
   ],
   "source": [
    "best_n_estimators = estimator_range[rmse_scores.index(min(rmse_scores))]\n",
    "best_n_estimators, min(rmse_scores)"
   ]
  },
  {
   "cell_type": "code",
   "execution_count": 12,
   "metadata": {},
   "outputs": [],
   "source": [
    "# Calibración max_features\n",
    "\n",
    "feature_range = range(1, X_train.shape[1]+1)\n",
    "\n",
    "# Lista para almacenar el valor de RMSE para cada valor max features\n",
    "rmse_scores = []\n",
    "\n",
    "for feature in feature_range:\n",
    "    rf = RandomForestRegressor(n_estimators = best_n_estimators, max_features=feature, random_state = 3, n_jobs = -1)\n",
    "    rf.fit(X_train, y_train)\n",
    "\n",
    "    y_pred = rf.predict(X_test)\n",
    "    rmse_scores.append(np.sqrt(mean_squared_error(y_test, y_pred)))"
   ]
  },
  {
   "cell_type": "code",
   "execution_count": 13,
   "metadata": {},
   "outputs": [
    {
     "data": {
      "text/plain": [
       "Text(0, 0.5, 'rmse')"
      ]
     },
     "execution_count": 13,
     "metadata": {},
     "output_type": "execute_result"
    },
    {
     "data": {
      "image/png": "[encoded data removed]",
      "text/plain": [
       "<Figure size 640x480 with 1 Axes>"
      ]
     },
     "metadata": {},
     "output_type": "display_data"
    }
   ],
   "source": [
    "# Gráfica del desempeño del modelo vs la cantidad de max_features\n",
    "plt.plot(feature_range, rmse_scores)\n",
    "plt.xlabel('max_features')\n",
    "plt.ylabel('rmse')"
   ]
  },
  {
   "cell_type": "code",
   "execution_count": 14,
   "metadata": {},
   "outputs": [],
   "source": [
    "# Calibración max_depth\n",
    "\n",
    "depth_range = range(1, 31)\n",
    "\n",
    "# Lista para almacenar el valor de RMSE para cada valor de max_depth\n",
    "rmse_scores = []\n",
    "\n",
    "for depth in depth_range:\n",
    "    rf = RandomForestRegressor(n_estimators = best_n_estimators, max_features=9, max_depth = depth, random_state = 3, n_jobs = -1)\n",
    "    rf.fit(X_train, y_train)\n",
    "\n",
    "    y_pred = rf.predict(X_test)\n",
    "    rmse_scores.append(np.sqrt(mean_squared_error(y_test, y_pred)))"
   ]
  },
  {
   "cell_type": "code",
   "execution_count": 15,
   "metadata": {},
   "outputs": [
    {
     "data": {
      "text/plain": [
       "Text(0, 0.5, 'rmse')"
      ]
     },
     "execution_count": 15,
     "metadata": {},
     "output_type": "execute_result"
    },
    {
     "data": {
      "image/png": "[encoded data removed]",
      "text/plain": [
       "<Figure size 640x480 with 1 Axes>"
      ]
     },
     "metadata": {},
     "output_type": "display_data"
    }
   ],
   "source": [
    "# Gráfica del desempeño del modelo vs la cantidad de max_depth\n",
    "plt.plot(depth_range, rmse_scores)\n",
    "plt.xlabel('max depth')\n",
    "plt.ylabel('rmse')"
   ]
  },
  {
   "cell_type": "code",
   "execution_count": 16,
   "metadata": {},
   "outputs": [
    {
     "data": {
      "text/plain": [
       "(8, 1565.099251576511)"
      ]
     },
     "execution_count": 16,
     "metadata": {},
     "output_type": "execute_result"
    }
   ],
   "source": [
    "best_depth = rmse_scores.index(min(rmse_scores)) +1\n",
    "best_depth, min(rmse_scores)"
   ]
  },
  {
   "cell_type": "code",
   "execution_count": 17,
   "metadata": {},
   "outputs": [
    {
     "name": "stdout",
     "output_type": "stream",
     "text": [
      "RMSE:  1565.099251576511\n",
      "MAE:  1151.6473083377364\n"
     ]
    }
   ],
   "source": [
    "# Mejor modelo obtenido\n",
    "\n",
    "rf2 = RandomForestRegressor(n_estimators = 140, max_features=9, max_depth = 8, random_state = 3, n_jobs = -1)\n",
    "rf2.fit(X_train, y_train)\n",
    "\n",
    "# Realizar la predicción sobre la base de test\n",
    "y_pred = rf2.predict(X_test)\n",
    "rmse = np.sqrt(mean_squared_error(y_test, y_pred))\n",
    "MAE = np.mean(np.abs(np.array(y_test) - np.array(y_pred)))\n",
    "\n",
    "print(\"RMSE: \", rmse)\n",
    "print(\"MAE: \", MAE)"
   ]
  },
  {
   "cell_type": "markdown",
   "metadata": {},
   "source": [
    "**Análisis de resultados**\n",
    "\n",
    "**1. Calibración número de estimadores**\n",
    "\n",
    "El primer parámetro a calibrar corresponde al número de estimadores, o cantidad de árboles que se empleará en el ensamblaje. Para este propósito se realiza un barrido con el número de estimadores que va desde 10 árboles hasta 500 (en saltos de 10) y se calcula el valor del RMSE con el cuál se determina la cantidad de estimadores que generan el mejor desempeño.\n",
    "\n",
    "Resultado: \n",
    "- best_n_estimators = 140\n",
    "- RMSE = 1753.82\n",
    "\n",
    "Como se puede observar en la gráfica, al aumentar la cantidad de árboles se presenta inicialmente un decrecimiento en el RMSE que es debido a que hay una mayor cantidad de árboles para promediar, y por lo tanto una mayor precisión. Sin embargo, a partir del valor de 140 del parámetro, ya no se presenta una mejora en el desempeño de los modelos, si no que por el contrario incrementa el error calculado.\n",
    "\n",
    "También como se puede observar en el cálculo del RMSE, solamente con el ajuste sobre el número de estimadores se obtiene un mejor desempeño que en los anteriores algoritmos empleados para el problema de regresión.\n",
    "\n",
    "**2. Calibración de máxima cantidad de características \"max_Features\"**\n",
    "\n",
    "El segundo paramétro a calibrar es el número máximo de variables, para esto se crea un rango que permite entrenar modelos empleando desde una característica como valor máximo, hasta nueve (total de características). Se cálcula el valor de RMSE para cada modelo y se determina aquel de mejor desempeño.\n",
    "\n",
    "Resultado:\n",
    "- max_features = 9\n",
    "- RMSE = 1753.82\n",
    "\n",
    "En este caso no hay una diferencia o mejora del desempeño del clasificador al realizar el ajuste de este parámetro, y se obtiene el mejor desempeño empleando la totalidad de características presentes en la base. De acuerdo con este resultado, se puede concluir que para el contexto del problema de la predicción del precio de los automoviles, una disminución en el valor de las máximas variables a emplear no genera una mejora en el rendimiento.\n",
    "\n",
    "**3. Calibración profundidad máxima del random forest**\n",
    "\n",
    "El último parámetro de calibración corresponde al de nivel o profundidad máxima de los árboles dentro del ensamble. En los modelos entrenados hasta el momento, este parámetro a estado definido por defecto, de tal forma que no se restringe los posibles niveles hasta que las hojas del árbol sean puras o hasta que contengan menos de dos muestras. Para su calibración se recorre un rango de valores definidos desde 1 hasta 30.\n",
    "\n",
    "Resultado:\n",
    "- best_depth = 8\n",
    "- RMSE = 1565.09\n",
    "\n",
    "Como se puede observar en la gráfica el valor del RMSE empieza a decrecer hasta llegar a la profundidad óptima (8) para la cual se obtiene el mínimo valor del error. Además, al aumentar a partir de este valor óptimo la profundidad máxima, se observa que el error incrementa hasta estabilizarse alrededor del valor de RMSE de 1753, que correspondía al desempeño del modelo antes de calibrar este parámetro.\n",
    "\n",
    "De acuerdo con este resultado, se puede validar que aumentar el valor de profundidad hasta tener menos de 2 muestras por cada nodo no conduce a la obtención de mejores resultados en el modelo de regresión, y por el contrario, se hace fundamental calibrar este valor buscando el nivel óptimo para las bifurcaciones.\n",
    "\n",
    "**Desempeño mejor modelo**\n",
    "\n",
    "- RMSE = 1565.09\n",
    "- MAE = 1151.65\n",
    "\n",
    "Se obtiene el mejor modelo para el problema de regresión hasta el momento, disminuyendo en 212 unidades el valor de RMSE y en 176 unidades el valor del MAE."
   ]
  },
  {
   "cell_type": "markdown",
   "metadata": {},
   "source": [
    "### Punto 6 - XGBoost con librería\n",
    "\n",
    "En la celda 6 implementen un modelo XGBoost de regresión con la librería sklearn y comenten sobre el desempeño del modelo."
   ]
  },
  {
   "cell_type": "code",
   "execution_count": 18,
   "metadata": {},
   "outputs": [],
   "source": [
    "from sklearn.metrics import mean_squared_error\n",
    "import numpy as np\n",
    "import matplotlib.pyplot as plt"
   ]
  },
  {
   "cell_type": "code",
   "execution_count": 19,
   "metadata": {},
   "outputs": [
    {
     "name": "stdout",
     "output_type": "stream",
     "text": [
      "RMSE:  1605.2355199928948\n",
      "MAE:  1185.2272991506386\n"
     ]
    }
   ],
   "source": [
    "# Celda 6\n",
    "# Se importa XGBRegressor de la librería xgboost\n",
    "from xgboost import XGBRegressor\n",
    "\n",
    "# Se inicializa el objeto de clase XGBRegressor con los parámetros por defecto\n",
    "rgr = XGBRegressor()\n",
    "\n",
    "# Se entrena el modelo con parámetros por defecto\n",
    "rgr.fit(X_train, y_train)\n",
    "\n",
    "#Se calculan las predicciones usando la base de test\n",
    "y_pred_xgb = rgr.predict(X_test)\n",
    "\n",
    "\n",
    "# Cálculo de las métricas de evaluación del modelo\n",
    "MSE_xgb = mean_squared_error(y_test, y_pred_xgb)\n",
    "RMSE_xgb = np.sqrt(MSE_xgb)\n",
    "MAE_xgb = np.mean(np.abs(np.array(y_test) - np.array(y_pred_xgb)))\n",
    "\n",
    "print(\"RMSE: \", RMSE_xgb)\n",
    "print(\"MAE: \", MAE_xgb)"
   ]
  },
  {
   "cell_type": "markdown",
   "metadata": {},
   "source": [
    "#### Análisis de resultados: ###\n",
    "1. La raíz del error cuadrático medio (RMSE) es de 1.605 y el error absoluto medio (MAE) es de  1.185. Cabe tener en cuenta que el modelo fue entrenado con los parámetros por defecto, una vez calibrados los parámetros Learning Rate, gamma y colsample_bytree se realizará la comparación de las métricas de evaluación. "
   ]
  },
  {
   "cell_type": "markdown",
   "metadata": {},
   "source": [
    "### Punto 7 - Calibración de parámetros XGBoost\n",
    "\n",
    "En la celda 7 calibren los parámetros learning rate, gamma y colsample_bytree del modelo XGBoost para regresión, comenten sobre el desempeño del modelo y describan cómo cada parámetro afecta el desempeño del modelo."
   ]
  },
  {
   "cell_type": "code",
   "execution_count": 67,
   "metadata": {},
   "outputs": [],
   "source": [
    "# Celda 7\n",
    "# Calibración del parámetro learning rate\n",
    "\n",
    "eta_range = np.arange(0.01, 0.5, 0.02) #Por defecto es 0.3\n",
    "\n",
    "# Lista para almacenar el valor de RMSE para cada valor de learning rate\n",
    "rmse_scores = []\n",
    "\n",
    "for eta_val in eta_range:\n",
    "    rgr = XGBRegressor(random_state = 3,eta = eta_val )\n",
    "    rgr.fit(X_train, y_train)\n",
    "\n",
    "    y_pred = rgr.predict(X_test)\n",
    "    rmse_scores.append(np.sqrt(mean_squared_error(y_test, y_pred)))"
   ]
  },
  {
   "cell_type": "code",
   "execution_count": 68,
   "metadata": {},
   "outputs": [
    {
     "data": {
      "text/plain": [
       "Text(0, 0.5, 'RMSE')"
      ]
     },
     "execution_count": 68,
     "metadata": {},
     "output_type": "execute_result"
    },
    {
     "data": {
      "image/png": "[encoded data removed]",
      "text/plain": [
       "<Figure size 640x480 with 1 Axes>"
      ]
     },
     "metadata": {},
     "output_type": "display_data"
    }
   ],
   "source": [
    "# Gráfica del desempeño del modelo vs valor del parámetro learning_rate (eta)\n",
    "plt.plot(eta_range, rmse_scores)\n",
    "plt.xlabel('Learning Rate')\n",
    "plt.ylabel('RMSE')"
   ]
  },
  {
   "cell_type": "code",
   "execution_count": 69,
   "metadata": {},
   "outputs": [
    {
     "name": "stdout",
     "output_type": "stream",
     "text": [
      "El modelo con menos RMSE (1553.6383461115379) se obtuvo usando un learning rate de 0.08999999999999998\n"
     ]
    }
   ],
   "source": [
    "best_eta_ind = rmse_scores.index(min(rmse_scores)) +1\n",
    "best_eta = eta_range[best_eta_ind]\n",
    "print('El modelo con menos RMSE ('+str(min(rmse_scores))+ ') se obtuvo usando un learning rate de '+ str(best_eta))"
   ]
  },
  {
   "cell_type": "code",
   "execution_count": 59,
   "metadata": {},
   "outputs": [],
   "source": [
    "# Calibración del parámetro gamma\n",
    "\n",
    "gamma_range = range(0, 300, 5)\n",
    "\n",
    "# Lista para almacenar el valor de RMSE para cada valor de gamma\n",
    "rmse_scores = []\n",
    "\n",
    "for gamma_val in gamma_range:\n",
    "    rgr = XGBRegressor(random_state = 3,gamma = gamma_val )\n",
    "    rgr.fit(X_train, y_train)\n",
    "\n",
    "    y_pred = rgr.predict(X_test)\n",
    "    rmse_scores.append(np.sqrt(mean_squared_error(y_test, y_pred)))"
   ]
  },
  {
   "cell_type": "code",
   "execution_count": 60,
   "metadata": {},
   "outputs": [
    {
     "data": {
      "text/plain": [
       "Text(0, 0.5, 'RMSE')"
      ]
     },
     "execution_count": 60,
     "metadata": {},
     "output_type": "execute_result"
    },
    {
     "data": {
      "image/png": "[encoded data removed]",
      "text/plain": [
       "<Figure size 640x480 with 1 Axes>"
      ]
     },
     "metadata": {},
     "output_type": "display_data"
    }
   ],
   "source": [
    "# Gráfica del desempeño del modelo vs valor del parámetro learning_rate (eta)\n",
    "plt.plot(gamma_range, rmse_scores)\n",
    "plt.xlabel('Gamma')\n",
    "plt.ylabel('RMSE')"
   ]
  },
  {
   "cell_type": "code",
   "execution_count": 61,
   "metadata": {},
   "outputs": [
    {
     "name": "stdout",
     "output_type": "stream",
     "text": [
      "El modelo con menos RMSE(1601.2135555631166) se obtuvo usando un gamma de 160\n"
     ]
    }
   ],
   "source": [
    "best_gamma_ind = rmse_scores.index(min(rmse_scores)) +1\n",
    "best_gamma = gamma_range[best_gamma_ind]\n",
    "print('El modelo con menos RMSE('+str(min(rmse_scores))+') se obtuvo usando un gamma de '+ str(best_gamma))"
   ]
  },
  {
   "cell_type": "code",
   "execution_count": 62,
   "metadata": {},
   "outputs": [],
   "source": [
    "# Calibración del parámetro colsample_bytree\n",
    "\n",
    "colsample_range = np.arange(0.01, 1, 0.01) #Por defecto es 1\n",
    "\n",
    "# Lista para almacenar el valor de RMSE para cada valor de colsample_bytree\n",
    "rmse_scores = []\n",
    "\n",
    "for colsample_value in colsample_range:\n",
    "    rgr = XGBRegressor(random_state = 3,colsample_bytree = colsample_value )\n",
    "    rgr.fit(X_train, y_train)\n",
    "\n",
    "    y_pred = rgr.predict(X_test)\n",
    "    rmse_scores.append(np.sqrt(mean_squared_error(y_test, y_pred)))"
   ]
  },
  {
   "cell_type": "code",
   "execution_count": 63,
   "metadata": {},
   "outputs": [
    {
     "data": {
      "text/plain": [
       "Text(0, 0.5, 'RMSE')"
      ]
     },
     "execution_count": 63,
     "metadata": {},
     "output_type": "execute_result"
    },
    {
     "data": {
      "image/png": "[encoded data removed]",
      "text/plain": [
       "<Figure size 640x480 with 1 Axes>"
      ]
     },
     "metadata": {},
     "output_type": "display_data"
    }
   ],
   "source": [
    "# Gráfica del desempeño del modelo vs valor del parámetro learning_rate (eta)\n",
    "plt.plot(colsample_range, rmse_scores)\n",
    "plt.xlabel('Colsample_bytree')\n",
    "plt.ylabel('RMSE')"
   ]
  },
  {
   "cell_type": "code",
   "execution_count": 64,
   "metadata": {},
   "outputs": [
    {
     "name": "stdout",
     "output_type": "stream",
     "text": [
      "El modelo con menos RMSE(1553.3690143491262) se obtuvo usando un colsample_bytree de 0.24000000000000002\n"
     ]
    }
   ],
   "source": [
    "best_colsample_ind = rmse_scores.index(min(rmse_scores)) +1\n",
    "best_colsample = colsample_range[best_colsample_ind]\n",
    "print('El modelo con menos RMSE('+str(min(rmse_scores))+') se obtuvo usando un colsample_bytree de '+ str(best_colsample))"
   ]
  },
  {
   "cell_type": "code",
   "execution_count": 71,
   "metadata": {},
   "outputs": [
    {
     "name": "stdout",
     "output_type": "stream",
     "text": [
      "RMSE:  1587.2651196179063\n",
      "MAE:  1173.2494429308604\n"
     ]
    }
   ],
   "source": [
    "# Mejor modelo obtenido\n",
    "\n",
    "rgr2 = XGBRegressor(random_state = 3,eta = best_eta, gamma = best_gamma, colsample_bytree = best_colsample)\n",
    "rgr2.fit(X_train, y_train)\n",
    "\n",
    "# Realizar la predicción sobre la base de test\n",
    "y_pred = rgr2.predict(X_test)\n",
    "rmse = np.sqrt(mean_squared_error(y_test, y_pred))\n",
    "MAE = np.mean(np.abs(np.array(y_test) - np.array(y_pred)))\n",
    "\n",
    "print(\"RMSE: \", rmse)\n",
    "print(\"MAE: \", MAE)"
   ]
  },
  {
   "cell_type": "markdown",
   "metadata": {},
   "source": [
    "**Análisis de resultados**\n",
    "\n",
    "**1. Calibración de la Tasa de aprendizaje (eta)**\n",
    "\n",
    "La tasa de aprendizaje controla el peso de la contibución de cada árbol al modelo final, tal que, una tasa de parendizaje baja implica un bajo aporte de cada árbol resultando en un proceso de aprendizaje mas lento pero preciso. Por el contrario, una tasa de aprendizaje alta, incremente el aporte de cada árbol resultando en un aprendizaje mas rápido pero con mayor riesgo de Overfitting. Para este caso, se entrena el modelo iterando la selección del parámetro entre 0.01 y 0.5 con steps de 0.02 obteniendo lo mostrado a continuación.\n",
    "\n",
    "Resultado: \n",
    "\n",
    "- best_eta = 0.089\n",
    "- RMSE = 1553.63\n",
    "\n",
    "\n",
    "Con la calibración de este parámetro se evidencia una mejora en el RMSE con respecto al modelo usando el valor por defecto, determinado en 0.3 .\n",
    "\n",
    "**2. Calibración de gamma**\n",
    "\n",
    "El parámetro Gamma funciona como un parámetro de regularización que controla la complejidad del modelo con el objetivo de prevenir Overfitting, especificamente, establece la cantidad mínima de de reducción de pérdida que se debe presentar para considerar una nueva partición del árbol. Para este caso, se entrena el modelo iterando la selección del parámetro entre 0 y 300 con steps de 5 obteniendo lo mostrado a continuación.\n",
    "\n",
    "Resultado: \n",
    "\n",
    "- best_gamma = 160\n",
    "- RMSE = 1601.21\n",
    "\n",
    "Se evidencia una caída significativa en el RMSE con valores de gamma entre 150 y 180, encontrando el valor mínimo en 160.\n",
    "\n",
    "\n",
    "**3. Calibración colsample_bytree**\n",
    "\n",
    "El parámetro colsample_bytree se comporta como max_features en Random Forest controlando la cantidad de características que serán tomadas de manera aleatoria para la construcción de cada árbol. Para este caso, se entrena el modelo iterando la selección del parámetro entre 0.01 y 1 con steps de 0.01 obteniendo lo mostrado a continuación.\n",
    "\n",
    "Resultado: \n",
    "\n",
    "- best_colsample_bytree = 0.24\n",
    "- RMSE = 1553.36\n",
    "\n",
    "El valor de RMSE es igual al obtenido con el modelo con el parámetro de learning rate calibrado. Un colsample_bytree de 0.24 indica que la selección aleatoria óptima de la cantidad de características para cada árbol está alrededor del 24% del total de características de la base de entrenamiento.\n",
    "\n",
    "**Desempeño mejor modelo**\n",
    "\n",
    "- RMSE = 1587.26\n",
    "- MAE = 1173.25\n",
    "\n",
    "Usando los mejores parámetros obtenidos de manera independiente en el entrenamiento de un solo modelo se obtiene un RMSE un poco mayor al obtenido en los modelos de manera independiente. Resulta de vital importancia realizar la calibración de los parámetros de manera cruzada, para encontrar la combinación óptima de estos. "
   ]
  },
  {
   "cell_type": "markdown",
   "metadata": {},
   "source": [
    "### Punto 8 - Comparación y análisis de resultados\n",
    "En la celda 8 comparen los resultados obtenidos de los diferentes modelos (random forest y XGBoost) y comenten las ventajas del mejor modelo y las desventajas del modelo con el menor desempeño."
   ]
  },
  {
   "cell_type": "markdown",
   "metadata": {},
   "source": [
    "**Resultados**\n",
    "\n",
    "**Modelo Random forest calibrado**\n",
    "- RMSE = 1565.09\n",
    "- MAE = 1151.65\n",
    "\n",
    "**Modelo XGBoost calibración learning rate**\n",
    "- RMSE = 1553.63\n",
    "\n",
    "**Modelo XGBoost calibración gamma**\n",
    "- RMSE = 1601.21\n",
    "\n",
    "**Modelo XGBoost calibración colsample_bytree**\n",
    "- RMSE = 1553.36\n",
    "\n",
    "**Modelo XGBoost con los mejores parámetros calibrados individualmente**\n",
    "- RMSE = 1587.26\n",
    "- MAE = 1173.25\n",
    "\n",
    "Como se puede observar en los resultados hay dos modelos, empleando el algoritmo XGBoost, que presentan mejor desempeño que el mejor algoritmo de Random Forest obtenido, teniendo en cuenta que para estos solo se está tomando en cuenta un parámetro calibrado (debido a que la calibración se realizó de forma individual). Lo que permite concluir que para el problema de regresión abordado, el modelo XGBoost presenta un mejor resultado en la predicción del precio de los automóviles.\n",
    "\n",
    "Las ventajas del mejor modelo, que permiten explicar el resultado obtenido, es que este penaliza los modelos complejos mediante su mejora de regularización en comparación con los otros algoritmos, lo que permite disminuir el riesgo de Overfitting y que de esta forma se puedan tener mejores resultados sobre conjuntos de datos nuevos o de validación. A su vez que emplea validación cruzada en cada iteración con lo cual robustese el proceso de entrenamiento de cada árbol.\n",
    "\n",
    "Si bien con el modelo de random forest se obtiene un desempeño próximo al de clasificador XGBoost, en este problema y en esta comparación resulta ser el modelo de menor desempeño predictivo, y que adicionalmente presenta desventajas de costo computacional para su ejecución en comparación con el XGBoost que tiene una optimización (paralelización, computo distribuido, entre otras) para su ejecución. Otra limitante de estos modelos y que de acuerdo con el problema planteado podría ser relevante, es la baja o limitada interpretabilidad.\n"
   ]
  }
 ],
 "metadata": {
  "kernelspec": {
   "display_name": "Python 3 (ipykernel)",
   "language": "python",
   "name": "python3"
  },
  "language_info": {
   "codemirror_mode": {
    "name": "ipython",
    "version": 3
   },
   "file_extension": ".py",
   "mimetype": "text/x-python",
   "name": "python",
   "nbconvert_exporter": "python",
   "pygments_lexer": "ipython3",
   "version": "3.12.1"
  }
 },
 "nbformat": 4,
 "nbformat_minor": 4
}
